{
  "nbformat": 4,
  "nbformat_minor": 0,
  "metadata": {
    "colab": {
      "provenance": [],
      "authorship_tag": "ABX9TyOw5+UkRXkvRSNB+tD+kpK+",
      "include_colab_link": true
    },
    "kernelspec": {
      "name": "python3",
      "display_name": "Python 3"
    },
    "language_info": {
      "name": "python"
    }
  },
  "cells": [
    {
      "cell_type": "markdown",
      "metadata": {
        "id": "view-in-github",
        "colab_type": "text"
      },
      "source": [
        "<a href=\"https://colab.research.google.com/github/varun-beep/Co-Authorship-Network-in-Generative-AI/blob/main/coauthorship_network.ipynb\" target=\"_parent\"><img src=\"https://colab.research.google.com/assets/colab-badge.svg\" alt=\"Open In Colab\"/></a>"
      ]
    },
    {
      "cell_type": "code",
      "source": [
        "import requests\n",
        "import networkx as nx\n",
        "import plotly.graph_objects as go\n",
        "from collections import defaultdict, Counter\n",
        "import pandas as pd"
      ],
      "metadata": {
        "id": "2rAalCH4Vgtu"
      },
      "execution_count": 1,
      "outputs": []
    },
    {
      "cell_type": "code",
      "source": [
        "# ------------------------- CONFIG -------------------------\n",
        "\n",
        "QUERY = \"Generative AI\"\n",
        "MAX_RESULTS = 50\n",
        "MIN_DEGREE = 2  # Filter authors with fewer connections\n",
        "TOP_K_AUTHORS = 20  # For optional export"
      ],
      "metadata": {
        "id": "2ekPrQUbViOX"
      },
      "execution_count": 2,
      "outputs": []
    },
    {
      "cell_type": "code",
      "source": [
        "# ------------------------- DATA FETCHING -------------------------\n",
        "\n",
        "def fetch_semantic_scholar_data(query, max_results=50):\n",
        "    url = f\"https://api.semanticscholar.org/graph/v1/paper/search\"\n",
        "    params = {\n",
        "        \"query\": query,\n",
        "        \"fields\": \"title,authors,year,citationCount\",\n",
        "        \"limit\": max_results\n",
        "    }\n",
        "    response = requests.get(url, params=params)\n",
        "    response.raise_for_status()\n",
        "    return response.json()['data']"
      ],
      "metadata": {
        "id": "mjZs2k7kVkKD"
      },
      "execution_count": 3,
      "outputs": []
    },
    {
      "cell_type": "code",
      "source": [
        "# ------------------------- GRAPH CONSTRUCTION -------------------------\n",
        "\n",
        "def build_coauthorship_graph(papers):\n",
        "    G = nx.Graph()\n",
        "    for paper in papers:\n",
        "        authors = paper.get(\"authors\", [])\n",
        "        author_names = [a['name'] for a in authors]\n",
        "        for i, a1 in enumerate(author_names):\n",
        "            for j in range(i + 1, len(author_names)):\n",
        "                a2 = author_names[j]\n",
        "                if G.has_edge(a1, a2):\n",
        "                    G[a1][a2]['weight'] += 1\n",
        "                else:\n",
        "                    G.add_edge(a1, a2, weight=1)\n",
        "    return G\n",
        "\n",
        "def filter_graph_by_degree(G, min_degree=2):\n",
        "    return G.subgraph([node for node in G.nodes if G.degree(node) >= min_degree]).copy()"
      ],
      "metadata": {
        "id": "DB52-c8EVnDN"
      },
      "execution_count": 4,
      "outputs": []
    },
    {
      "cell_type": "code",
      "source": [
        "# ------------------------- VISUALIZATION -------------------------\n",
        "\n",
        "def plot_interactive_graph(G):\n",
        "    pos = nx.spring_layout(G, seed=42, k=0.4)\n",
        "\n",
        "    edge_x, edge_y = [], []\n",
        "    for edge in G.edges():\n",
        "        x0, y0 = pos[edge[0]]\n",
        "        x1, y1 = pos[edge[1]]\n",
        "        edge_x += [x0, x1, None]\n",
        "        edge_y += [y0, y1, None]\n",
        "\n",
        "    edge_trace = go.Scatter(\n",
        "        x=edge_x, y=edge_y,\n",
        "        line=dict(width=0.5, color='gray'),\n",
        "        hoverinfo='none',\n",
        "        mode='lines'\n",
        "    )\n",
        "\n",
        "    node_x, node_y, node_text = [], [], []\n",
        "    for node in G.nodes():\n",
        "        x, y = pos[node]\n",
        "        node_x.append(x)\n",
        "        node_y.append(y)\n",
        "        node_text.append(f\"{node}<br>Degree: {G.degree(node)}\")\n",
        "\n",
        "    node_trace = go.Scatter(\n",
        "        x=node_x, y=node_y,\n",
        "        mode='markers+text',\n",
        "        textposition='bottom center',\n",
        "        textfont=dict(size=10),\n",
        "        text=[node for node in G.nodes()],\n",
        "        hovertext=node_text,\n",
        "        hoverinfo='text',\n",
        "        marker=dict(\n",
        "            showscale=True,\n",
        "            colorscale='YlOrRd',\n",
        "            size=[5 + 2 * G.degree(node) for node in G.nodes()],\n",
        "            color=[G.degree(node) for node in G.nodes()],\n",
        "            colorbar=dict(\n",
        "                thickness=15,\n",
        "                title='Node Degree',\n",
        "                xanchor='left',\n",
        "                titleside='right'\n",
        "            ),\n",
        "            line_width=0.5\n",
        "        )\n",
        "    )\n",
        "\n",
        "    fig = go.Figure(data=[edge_trace, node_trace],\n",
        "                    layout=go.Layout(\n",
        "                        title='<b>Generative AI Co-authorship Network</b>',\n",
        "                        titlefont_size=20,\n",
        "                        showlegend=False,\n",
        "                        hovermode='closest',\n",
        "                        margin=dict(b=20, l=5, r=5, t=40),\n",
        "                        annotations=[dict(\n",
        "                            text=\"Source: Semantic Scholar API\",\n",
        "                            showarrow=False,\n",
        "                            xref=\"paper\", yref=\"paper\",\n",
        "                            x=0.005, y=-0.002\n",
        "                        )],\n",
        "                        xaxis=dict(showgrid=False, zeroline=False),\n",
        "                        yaxis=dict(showgrid=False, zeroline=False)\n",
        "                    ))\n",
        "    fig.show()"
      ],
      "metadata": {
        "id": "_kDxKHooVq52"
      },
      "execution_count": 5,
      "outputs": []
    },
    {
      "cell_type": "code",
      "source": [
        "# ------------------------- EXPORT (OPTIONAL) -------------------------\n",
        "\n",
        "def export_top_authors(G, k=20, file_format=\"csv\"):\n",
        "    degrees = Counter(dict(G.degree()))\n",
        "    top_k = degrees.most_common(k)\n",
        "    df = pd.DataFrame(top_k, columns=[\"Author\", \"Degree\"])\n",
        "\n",
        "    if file_format == \"csv\":\n",
        "        df.to_csv(\"top_authors.csv\", index=False)\n",
        "    elif file_format == \"json\":\n",
        "        df.to_json(\"top_authors.json\", orient=\"records\", indent=2)\n",
        "\n",
        "    print(f\"Top {k} authors exported to top_authors.{file_format}\")"
      ],
      "metadata": {
        "id": "4vtKRXjHVtDE"
      },
      "execution_count": 6,
      "outputs": []
    },
    {
      "cell_type": "code",
      "source": [
        "# ------------------------- MAIN -------------------------\n",
        "\n",
        "if __name__ == \"__main__\":\n",
        "    papers = fetch_semantic_scholar_data(QUERY, MAX_RESULTS)\n",
        "    G_full = build_coauthorship_graph(papers)\n",
        "    G_filtered = filter_graph_by_degree(G_full, MIN_DEGREE)\n",
        "\n",
        "    plot_interactive_graph(G_filtered)\n",
        "\n",
        "    export_top_authors(G_filtered, TOP_K_AUTHORS, file_format=\"csv\")"
      ],
      "metadata": {
        "id": "HzNJn8F5V0FD"
      },
      "execution_count": null,
      "outputs": []
    },
    {
      "cell_type": "code",
      "source": [
        "!pip freeze > requirements.txt"
      ],
      "metadata": {
        "id": "hO7C-T7bWJ7z"
      },
      "execution_count": 8,
      "outputs": []
    }
  ]
}